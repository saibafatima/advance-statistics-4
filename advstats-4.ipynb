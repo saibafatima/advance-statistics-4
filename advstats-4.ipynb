{
 "cells": [
  {
   "cell_type": "code",
   "execution_count": 1,
   "id": "131f8091-f8af-446e-bcb4-6ac1e06482d8",
   "metadata": {},
   "outputs": [
    {
     "ename": "SyntaxError",
     "evalue": "invalid syntax (2715658404.py, line 1)",
     "output_type": "error",
     "traceback": [
      "\u001b[0;36m  Cell \u001b[0;32mIn[1], line 1\u001b[0;36m\u001b[0m\n\u001b[0;31m    Q1: What is the difference between a t-test and a z-test? Provide an example scenario where you would use each type of test.\u001b[0m\n\u001b[0m                    ^\u001b[0m\n\u001b[0;31mSyntaxError\u001b[0m\u001b[0;31m:\u001b[0m invalid syntax\n"
     ]
    }
   ],
   "source": [
    "Q1: What is the difference between a t-test and a z-test? Provide an example scenario where you would use each type of test.\n",
    "\n",
    "A t-test is used when the population standard deviation is unknown, while a z-test is used when the population standard deviation is known.\n",
    "\n",
    "Example scenario for t-test: Suppose we want to compare the average score of a new teaching method with the average score of the traditional method. We take a sample of 20 students and find that the average score is 85 with a standard deviation of 6. We want to know if the new method is significantly better than the traditional method.\n"
   ]
  },
  {
   "cell_type": "code",
   "execution_count": 2,
   "id": "8c2716f0-5608-4b64-aefb-7060ac81fc5e",
   "metadata": {},
   "outputs": [
    {
     "name": "stdout",
     "output_type": "stream",
     "text": [
      "t-statistic: inf\n",
      "p-value: 0.0\n"
     ]
    },
    {
     "name": "stderr",
     "output_type": "stream",
     "text": [
      "/tmp/ipykernel_1106/1800422785.py:12: RuntimeWarning: Precision loss occurred in moment calculation due to catastrophic cancellation. This occurs when the data are nearly identical. Results may be unreliable.\n",
      "  t_stat, p_val = stats.ttest_1samp([sample_mean]*sample_size, pop_mean)\n"
     ]
    }
   ],
   "source": [
    "import scipy.stats as stats\n",
    "\n",
    "# sample mean and standard deviation\n",
    "sample_mean = 85\n",
    "sample_std = 6\n",
    "sample_size = 20\n",
    "\n",
    "# population mean (traditional method)\n",
    "pop_mean = 80\n",
    "\n",
    "# calculate t-statistic and p-value\n",
    "t_stat, p_val = stats.ttest_1samp([sample_mean]*sample_size, pop_mean)\n",
    "\n",
    "print(\"t-statistic:\", t_stat)\n",
    "print(\"p-value:\", p_val)"
   ]
  },
  {
   "cell_type": "code",
   "execution_count": 5,
   "id": "f8291b01-1dfd-4f8f-9d83-c092194ba209",
   "metadata": {},
   "outputs": [
    {
     "name": "stdout",
     "output_type": "stream",
     "text": [
      "z-statistic: 3.2863353450309964\n",
      "p-value: 0.0005075004735565336\n"
     ]
    }
   ],
   "source": [
    "import scipy.stats as stats\n",
    "\n",
    "# sample mean and standard deviation\n",
    "sample_mean = 178\n",
    "sample_std = 5\n",
    "sample_size = 30\n",
    "\n",
    "# population mean and standard deviation\n",
    "pop_mean = 175\n",
    "pop_std = 5\n",
    "\n",
    "# calculate z-statistic and p-value\n",
    "z_stat = (sample_mean - pop_mean) / (pop_std / np.sqrt(sample_size))\n",
    "p_val = stats.norm.sf(abs(z_stat))\n",
    "\n",
    "print(\"z-statistic:\", z_stat)\n",
    "print(\"p-value:\", p_val)"
   ]
  },
  {
   "cell_type": "code",
   "execution_count": 4,
   "id": "22fe69c3-f39d-4786-82a9-e055bb5b2e1c",
   "metadata": {},
   "outputs": [],
   "source": [
    "import numpy as np\n"
   ]
  },
  {
   "cell_type": "code",
   "execution_count": 6,
   "id": "6c60f47c-8e9a-42fb-9983-9014a2e4cfd8",
   "metadata": {},
   "outputs": [
    {
     "ename": "SyntaxError",
     "evalue": "invalid syntax (769653661.py, line 1)",
     "output_type": "error",
     "traceback": [
      "\u001b[0;36m  Cell \u001b[0;32mIn[6], line 1\u001b[0;36m\u001b[0m\n\u001b[0;31m    Q2: Differentiate between one-tailed and two-tailed tests.\u001b[0m\n\u001b[0m                      ^\u001b[0m\n\u001b[0;31mSyntaxError\u001b[0m\u001b[0;31m:\u001b[0m invalid syntax\n"
     ]
    }
   ],
   "source": [
    "Q2: Differentiate between one-tailed and two-tailed tests.\n",
    "\n",
    "A one-tailed test is used when we want to test if the sample mean is significantly greater than (or less than) the population mean. A two-tailed test is used when we want to test if the sample mean is significantly different from the population mean.\n",
    "\n",
    "Example of one-tailed test: Suppose we want to know if the average score of a new teaching method is significantly higher than the average score of the traditional method.\n",
    "\n"
   ]
  },
  {
   "cell_type": "code",
   "execution_count": 7,
   "id": "3accd15d-39fc-47c6-aa72-f3da465ec048",
   "metadata": {},
   "outputs": [
    {
     "name": "stdout",
     "output_type": "stream",
     "text": [
      "t-statistic: inf\n",
      "p-value: 0.0\n"
     ]
    },
    {
     "name": "stderr",
     "output_type": "stream",
     "text": [
      "/tmp/ipykernel_1106/2161551443.py:12: RuntimeWarning: Precision loss occurred in moment calculation due to catastrophic cancellation. This occurs when the data are nearly identical. Results may be unreliable.\n",
      "  t_stat, p_val = stats.ttest_1samp([sample_mean]*sample_size, pop_mean, alternative='greater')\n"
     ]
    }
   ],
   "source": [
    "import scipy.stats as stats\n",
    "\n",
    "# sample mean and standard deviation\n",
    "sample_mean = 85\n",
    "sample_std = 6\n",
    "sample_size = 20\n",
    "\n",
    "# population mean (traditional method)\n",
    "pop_mean = 80\n",
    "\n",
    "# calculate t-statistic and p-value (one-tailed)\n",
    "t_stat, p_val = stats.ttest_1samp([sample_mean]*sample_size, pop_mean, alternative='greater')\n",
    "\n",
    "print(\"t-statistic:\", t_stat)\n",
    "print(\"p-value:\", p_val)"
   ]
  },
  {
   "cell_type": "code",
   "execution_count": 8,
   "id": "f0bbb5d1-57d9-4518-97ed-4fdcdfd6d279",
   "metadata": {},
   "outputs": [
    {
     "name": "stdout",
     "output_type": "stream",
     "text": [
      "t-statistic: inf\n",
      "p-value: 0.0\n"
     ]
    },
    {
     "name": "stderr",
     "output_type": "stream",
     "text": [
      "/tmp/ipykernel_1106/2216037849.py:12: RuntimeWarning: Precision loss occurred in moment calculation due to catastrophic cancellation. This occurs when the data are nearly identical. Results may be unreliable.\n",
      "  t_stat, p_val = stats.ttest_1samp([sample_mean]*sample_size, pop_mean)\n"
     ]
    }
   ],
   "source": [
    "import scipy.stats as stats\n",
    "\n",
    "# sample mean and standard deviation\n",
    "sample_mean = 85\n",
    "sample_std = 6\n",
    "sample_size = 20\n",
    "\n",
    "# population mean (traditional method)\n",
    "pop_mean = 80\n",
    "\n",
    "# calculate t-statistic and p-value (two-tailed)\n",
    "t_stat, p_val = stats.ttest_1samp([sample_mean]*sample_size, pop_mean)\n",
    "\n",
    "print(\"t-statistic:\", t_stat)\n",
    "print(\"p-value:\", p_val)"
   ]
  },
  {
   "cell_type": "code",
   "execution_count": 9,
   "id": "9c911906-c45f-4881-b1fb-a0511173dce8",
   "metadata": {},
   "outputs": [
    {
     "ename": "SyntaxError",
     "evalue": "invalid syntax (684176898.py, line 1)",
     "output_type": "error",
     "traceback": [
      "\u001b[0;36m  Cell \u001b[0;32mIn[9], line 1\u001b[0;36m\u001b[0m\n\u001b[0;31m    Q3: Explain the concept of Type 1 and Type 2 errors in hypothesis testing. Provide an example scenario for each type of error.\u001b[0m\n\u001b[0m                ^\u001b[0m\n\u001b[0;31mSyntaxError\u001b[0m\u001b[0;31m:\u001b[0m invalid syntax\n"
     ]
    }
   ],
   "source": [
    "Q3: Explain the concept of Type 1 and Type 2 errors in hypothesis testing. Provide an example scenario for each type of error.\n",
    "\n",
    "Type 1 error: Rejecting the null hypothesis when it is actually true. Type 2 error: Failing to reject the null hypothesis when it is actually false.\n",
    "\n",
    "Example scenario for Type 1 error: Suppose we want to test if a new drug is effective in reducing blood pressure. We conduct a study and find that the average blood pressure of the treatment group is significantly lower than the control group. However, it turns out that the drug is actually ineffective, and the result was due to chance."
   ]
  },
  {
   "cell_type": "code",
   "execution_count": 10,
   "id": "b8561cc1-7fdb-4367-88f1-a88b4bf8f0e3",
   "metadata": {},
   "outputs": [
    {
     "name": "stdout",
     "output_type": "stream",
     "text": [
      "t-statistic: -inf\n",
      "p-value: 0.0\n"
     ]
    },
    {
     "name": "stderr",
     "output_type": "stream",
     "text": [
      "/tmp/ipykernel_1106/537507243.py:12: RuntimeWarning: Precision loss occurred in moment calculation due to catastrophic cancellation. This occurs when the data are nearly identical. Results may be unreliable.\n",
      "  t_stat, p_val = stats.ttest_1samp([sample_mean]*sample_size, pop_mean)\n"
     ]
    }
   ],
   "source": [
    "import scipy.stats as stats\n",
    "\n",
    "# sample mean and standard deviation\n",
    "sample_mean = 120\n",
    "sample_std = 10\n",
    "sample_size = 20\n",
    "\n",
    "# population mean (control group)\n",
    "pop_mean = 125\n",
    "\n",
    "# calculate t-statistic and p-value\n",
    "t_stat, p_val = stats.ttest_1samp([sample_mean]*sample_size, pop_mean)\n",
    "\n",
    "print(\"t-statistic:\", t_stat)\n",
    "print(\"p-value:\", p_val)"
   ]
  },
  {
   "cell_type": "code",
   "execution_count": 11,
   "id": "c0822b1e-140d-4cd4-8102-781d8b8f3ebe",
   "metadata": {},
   "outputs": [
    {
     "ename": "SyntaxError",
     "evalue": "unterminated string literal (detected at line 3) (2611286243.py, line 3)",
     "output_type": "error",
     "traceback": [
      "\u001b[0;36m  Cell \u001b[0;32mIn[11], line 3\u001b[0;36m\u001b[0m\n\u001b[0;31m    Q4: Explain Bayes's theorem with an example.\u001b[0m\n\u001b[0m                     ^\u001b[0m\n\u001b[0;31mSyntaxError\u001b[0m\u001b[0;31m:\u001b[0m unterminated string literal (detected at line 3)\n"
     ]
    }
   ],
   "source": [
    "Here are the explanations for each question using Python:\n",
    "\n",
    "Q4: Explain Bayes's theorem with an example.\n",
    "\n",
    "Bayes' theorem is a mathematical formula that describes how to update the probability of a hypothesis (H) given new evidence (E). It is defined as:\n",
    "\n",
    "P(H|E) = P(E|H) * P(H) / P(E)\n",
    "\n",
    "Where:\n",
    "\n",
    "P(H|E) is the posterior probability of the hypothesis given the evidence\n",
    "P(E|H) is the likelihood of the evidence given the hypothesis\n",
    "P(H) is the prior probability of the hypothesis\n",
    "P(E) is the probability of the evidence"
   ]
  },
  {
   "cell_type": "code",
   "execution_count": 12,
   "id": "24ba53e4-9a9b-4f54-af27-ca1b364a3283",
   "metadata": {},
   "outputs": [
    {
     "name": "stdout",
     "output_type": "stream",
     "text": [
      "Posterior probability of the disease: 0.043478260869565216\n"
     ]
    }
   ],
   "source": [
    "# prior probability of the disease\n",
    "P_H = 0.01\n",
    "\n",
    "# probability of a positive test given the disease\n",
    "P_E_given_H = 0.9\n",
    "\n",
    "# probability of a positive test given no disease\n",
    "P_E_given_not_H = 0.2\n",
    "\n",
    "# probability of a positive test\n",
    "P_E = P_E_given_H * P_H + P_E_given_not_H * (1 - P_H)\n",
    "\n",
    "# posterior probability of the disease given a positive test\n",
    "P_H_given_E = (P_E_given_H * P_H) / P_E\n",
    "\n",
    "print(\"Posterior probability of the disease:\", P_H_given_E)"
   ]
  },
  {
   "cell_type": "code",
   "execution_count": 13,
   "id": "9a85b0a4-5c26-4a00-b185-2b0fc6098a87",
   "metadata": {},
   "outputs": [
    {
     "ename": "SyntaxError",
     "evalue": "invalid syntax (1714154656.py, line 1)",
     "output_type": "error",
     "traceback": [
      "\u001b[0;36m  Cell \u001b[0;32mIn[13], line 1\u001b[0;36m\u001b[0m\n\u001b[0;31m    Q5: What is a confidence interval? How to calculate the confidence interval, explain with an example.\u001b[0m\n\u001b[0m                  ^\u001b[0m\n\u001b[0;31mSyntaxError\u001b[0m\u001b[0;31m:\u001b[0m invalid syntax\n"
     ]
    }
   ],
   "source": [
    "Q5: What is a confidence interval? How to calculate the confidence interval, explain with an example.\n",
    "\n",
    "A confidence interval is a range of values within which a population parameter is likely to lie. It is calculated using a sample of data and provides a measure of uncertainty associated with the sample statistic."
   ]
  },
  {
   "cell_type": "code",
   "execution_count": 14,
   "id": "dcdc573d-2619-45b6-bbb0-85d96ff04f34",
   "metadata": {},
   "outputs": [
    {
     "name": "stdout",
     "output_type": "stream",
     "text": [
      "95% Confidence Interval: (47.808693648558545, 52.191306351441455)\n"
     ]
    }
   ],
   "source": [
    "import scipy.stats as stats\n",
    "import numpy as np\n",
    "\n",
    "# sample mean and standard deviation\n",
    "sample_mean = 50\n",
    "sample_std = 5\n",
    "sample_size = 20\n",
    "\n",
    "# calculate the standard error\n",
    "std_err = sample_std / np.sqrt(sample_size)\n",
    "\n",
    "# calculate the confidence interval (95%)\n",
    "confidence_interval = stats.norm.interval(0.95, loc=sample_mean, scale=std_err)\n",
    "\n",
    "print(\"95% Confidence Interval:\", confidence_interval)"
   ]
  },
  {
   "cell_type": "code",
   "execution_count": 15,
   "id": "da828626-8515-412e-aac7-0a294c67576a",
   "metadata": {},
   "outputs": [
    {
     "ename": "SyntaxError",
     "evalue": "invalid syntax (1443829170.py, line 1)",
     "output_type": "error",
     "traceback": [
      "\u001b[0;36m  Cell \u001b[0;32mIn[15], line 1\u001b[0;36m\u001b[0m\n\u001b[0;31m    Q6: Use Bayes' Theorem to calculate the probability of an event occurring given prior knowledge of the event's probability and new evidence. Provide a sample problem and solution.\u001b[0m\n\u001b[0m            ^\u001b[0m\n\u001b[0;31mSyntaxError\u001b[0m\u001b[0;31m:\u001b[0m invalid syntax\n"
     ]
    }
   ],
   "source": [
    "Q6: Use Bayes' Theorem to calculate the probability of an event occurring given prior knowledge of the event's probability and new evidence. Provide a sample problem and solution.\n",
    "\n",
    "Sample problem: Suppose we want to know the probability that a person will default on a loan (H) given that they have a high credit score (E). We know that 5% of people with high credit scores default on loans, and 20% of people without high credit scores default on loans. We also know that 30% of the population has a high credit score."
   ]
  },
  {
   "cell_type": "code",
   "execution_count": 16,
   "id": "8314ccd3-be76-4535-8364-78215a99e018",
   "metadata": {},
   "outputs": [
    {
     "name": "stdout",
     "output_type": "stream",
     "text": [
      "Posterior probability of defaulting on a loan: 0.2941176470588236\n"
     ]
    }
   ],
   "source": [
    "# prior probability of defaulting on a loan\n",
    "P_H = 0.2\n",
    "\n",
    "# probability of a high credit score given default\n",
    "P_E_given_H = 0.5\n",
    "\n",
    "# probability of a high credit score given no default\n",
    "P_E_given_not_H = 0.3\n",
    "\n",
    "# probability of a high credit score\n",
    "P_E = P_E_given_H * P_H + P_E_given_not_H * (1 - P_H)\n",
    "\n",
    "# posterior probability of defaulting on a loan given a high credit score\n",
    "P_H_given_E = (P_E_given_H * P_H) / P_E\n",
    "\n",
    "print(\"Posterior probability of defaulting on a loan:\", P_H_given_E)"
   ]
  },
  {
   "cell_type": "code",
   "execution_count": 17,
   "id": "6c6a1d88-ba1b-4893-a945-9f816dc6ac32",
   "metadata": {},
   "outputs": [
    {
     "name": "stdout",
     "output_type": "stream",
     "text": [
      "95% Confidence Interval: (47.808693648558545, 52.191306351441455)\n"
     ]
    }
   ],
   "source": [
    "#Q7: Calculate the 95% confidence interval for a sample of data with a mean of 50 and a standard deviation of 5. Interpret the results.\n",
    "\n",
    "import scipy.stats as stats\n",
    "import numpy as np\n",
    "\n",
    "# sample mean and standard deviation\n",
    "sample_mean = 50\n",
    "sample_std = 5\n",
    "sample_size = 20\n",
    "\n",
    "# calculate the standard error\n",
    "std_err = sample_std / np.sqrt(sample_size)\n",
    "\n",
    "# calculate the confidence interval (95%)\n",
    "confidence_interval = stats.norm.interval(0.95, loc=sample_mean, scale=std_err)\n",
    "\n",
    "print(\"95% Confidence Interval:\", confidence_interval)"
   ]
  },
  {
   "cell_type": "code",
   "execution_count": 18,
   "id": "4b187244-1ad1-42f2-b71d-a2458f25d020",
   "metadata": {},
   "outputs": [
    {
     "ename": "SyntaxError",
     "evalue": "invalid syntax (1846131446.py, line 1)",
     "output_type": "error",
     "traceback": [
      "\u001b[0;36m  Cell \u001b[0;32mIn[18], line 1\u001b[0;36m\u001b[0m\n\u001b[0;31m    Q8: What is the margin of error in a confidence interval? How does sample size affect the margin of error? Provide an example of a scenario where a larger sample size would result in a smaller margin of error.\u001b[0m\n\u001b[0m                    ^\u001b[0m\n\u001b[0;31mSyntaxError\u001b[0m\u001b[0;31m:\u001b[0m invalid syntax\n"
     ]
    }
   ],
   "source": [
    "Q8: What is the margin of error in a confidence interval? How does sample size affect the margin of error? Provide an example of a scenario where a larger sample size would result in a smaller margin of error.\n",
    "\n",
    "The margin of error is the maximum amount by which the sample statistic may differ from the population parameter. It is calculated as:\n",
    "\n",
    "Margin of Error = (Z-score * Standard Error)\n",
    "\n",
    "where Z-score is the Z-score corresponding to the desired confidence level, and Standard Error is the standard deviation of the sample statistic."
   ]
  },
  {
   "cell_type": "code",
   "execution_count": 19,
   "id": "e7f91ce3-17d8-4398-be09-38137e1541a2",
   "metadata": {},
   "outputs": [
    {
     "name": "stdout",
     "output_type": "stream",
     "text": [
      "Margin of Error with sample size 100: 1.96\n",
      "Margin of Error with sample size 400: 0.98\n"
     ]
    }
   ],
   "source": [
    "import math\n",
    "\n",
    "def margin_of_error(sample_size, population_std, confidence_level):\n",
    "    z_score = 1.96  # for 95% confidence level\n",
    "    std_err = population_std / math.sqrt(sample_size)\n",
    "    return z_score * std_err\n",
    "\n",
    "# example scenario\n",
    "population_std = 10\n",
    "sample_size = 100\n",
    "margin_of_error_100 = margin_of_error(sample_size, population_std, 0.95)\n",
    "print(\"Margin of Error with sample size 100:\", margin_of_error_100)\n",
    "\n",
    "sample_size = 400\n",
    "margin_of_error_400 = margin_of_error(sample_size, population_std, 0.95)\n",
    "print(\"Margin of Error with sample size 400:\", margin_of_error_400)"
   ]
  },
  {
   "cell_type": "code",
   "execution_count": 20,
   "id": "2985638c-7fb1-4c79-8bf3-16ecd52b4e9e",
   "metadata": {},
   "outputs": [
    {
     "name": "stdout",
     "output_type": "stream",
     "text": [
      "Z-score: 1.0\n"
     ]
    }
   ],
   "source": [
    "#Q9: Calculate the z-score for a data point with a value of 75, a population mean of 70, and a population standard deviation of 5. Interpret the results.\n",
    "\n",
    "def z_score(data_point, population_mean, population_std):\n",
    "    return (data_point - population_mean) / population_std\n",
    "\n",
    "data_point = 75\n",
    "population_mean = 70\n",
    "population_std = 5\n",
    "\n",
    "z_score = z_score(data_point, population_mean, population_std)\n",
    "print(\"Z-score:\", z_score)"
   ]
  },
  {
   "cell_type": "code",
   "execution_count": 21,
   "id": "6cbcd8e4-6398-4b08-80b1-2346f040f39c",
   "metadata": {},
   "outputs": [
    {
     "name": "stdout",
     "output_type": "stream",
     "text": [
      "t-statistic: inf\n",
      "p-value: 0.0\n",
      "The drug is significantly effective at a 95% confidence level.\n"
     ]
    },
    {
     "name": "stderr",
     "output_type": "stream",
     "text": [
      "/tmp/ipykernel_1106/149762807.py:10: RuntimeWarning: Precision loss occurred in moment calculation due to catastrophic cancellation. This occurs when the data are nearly identical. Results may be unreliable.\n",
      "  t_stat, p_val = stats.ttest_1samp([sample_mean]*sample_size, 0)\n"
     ]
    }
   ],
   "source": [
    "#Q10: In a study of the effectiveness of a new weight loss drug, a sample of 50 participants lost an average of 6 pounds with a standard deviation of 2.5 pounds. Conduct a hypothesis test to determine if the drug is significantly effective at a 95% confidence level using a t-test.\n",
    "\n",
    "import scipy.stats as stats\n",
    "\n",
    "sample_mean = 6\n",
    "sample_std = 2.5\n",
    "sample_size = 50\n",
    "\n",
    "# calculate the t-statistic and p-value\n",
    "t_stat, p_val = stats.ttest_1samp([sample_mean]*sample_size, 0)\n",
    "\n",
    "print(\"t-statistic:\", t_stat)\n",
    "print(\"p-value:\", p_val)\n",
    "\n",
    "if p_val < 0.05:\n",
    "    print(\"The drug is significantly effective at a 95% confidence level.\")\n",
    "else:\n",
    "    print(\"The drug is not significantly effective at a 95% confidence level.\")"
   ]
  },
  {
   "cell_type": "code",
   "execution_count": 22,
   "id": "df80e0c2-d6d2-43d2-bfd6-b409587eee19",
   "metadata": {},
   "outputs": [
    {
     "name": "stdout",
     "output_type": "stream",
     "text": [
      "95% Confidence Interval: (0.6081925393809212, 0.6918074606190788)\n"
     ]
    }
   ],
   "source": [
    "#Q11: In a survey of 500 people, 65% reported being satisfied with their current job. Calculate the 95% confidence interval for the true proportion of people who are satisfied with their job.\n",
    "import scipy.stats as stats\n",
    "\n",
    "sample_size = 500\n",
    "sample_proportion = 0.65\n",
    "\n",
    "# calculate the standard error\n",
    "std_err = math.sqrt((sample_proportion * (1 - sample_proportion)) / sample_size)\n",
    "\n",
    "# calculate the confidence interval (95%)\n",
    "confidence_interval = stats.norm.interval(0.95, loc=sample_proportion, scale=std_err)\n",
    "\n",
    "print(\"95% Confidence Interval:\", confidence_interval)\n"
   ]
  },
  {
   "cell_type": "code",
   "execution_count": 23,
   "id": "b719e8ef-018e-4399-acc0-986383985c32",
   "metadata": {},
   "outputs": [
    {
     "name": "stdout",
     "output_type": "stream",
     "text": [
      "t-statistic: 2.1038606199548298\n",
      "p-value: 0.03973697161571063\n",
      "The two teaching methods do not have a significant difference in student performance at a 1% significance level.\n"
     ]
    }
   ],
   "source": [
    "#Q12: A researcher is testing the effectiveness of two different teaching methods on student performance. Sample A has a mean score of 85 with a standard deviation of 6, while sample B has a mean score of 82 with a standard deviation of 5. Conduct a hypothesis test to determine if the two teaching methods have a significant difference in student performance using a t-test with a significance level of 0.01.\n",
    "\n",
    "import scipy.stats as stats\n",
    "\n",
    "# sample A\n",
    "sample_a_mean = 85\n",
    "sample_a_std = 6\n",
    "sample_a_size = 30  # assume sample size is 30\n",
    "\n",
    "# sample B\n",
    "sample_b_mean = 82\n",
    "sample_b_std = 5\n",
    "sample_b_size = 30  # assume sample size is 30\n",
    "\n",
    "# calculate the pooled standard deviation\n",
    "pooled_std = math.sqrt(((sample_a_size - 1) * sample_a_std**2 + (sample_b_size - 1) * sample_b_std**2) / (sample_a_size + sample_b_size - 2))\n",
    "\n",
    "# calculate the t-statistic and p-value\n",
    "t_stat, p_val = stats.ttest_ind_from_stats(sample_a_mean, sample_a_std, sample_a_size, sample_b_mean, sample_b_std, sample_b_size)\n",
    "\n",
    "print(\"t-statistic:\", t_stat)\n",
    "print(\"p-value:\", p_val)\n",
    "\n",
    "if p_val < 0.01:\n",
    "    print(\"The two teaching methods have a significant difference in student performance at a 1% significance level.\")\n",
    "else:\n",
    "    print(\"The two teaching methods do not have a significant difference in student performance at a 1% significance level.\")"
   ]
  },
  {
   "cell_type": "code",
   "execution_count": 24,
   "id": "4a65f18e-1bfa-4443-af2e-d26a6e1ebc89",
   "metadata": {},
   "outputs": [
    {
     "name": "stdout",
     "output_type": "stream",
     "text": [
      "90% Confidence Interval: (63.13906055411732, 66.86093944588268)\n"
     ]
    }
   ],
   "source": [
    "#Q13: A population has a mean of 60 and a standard deviation of 8. A sample of 50 observations has a mean of 65. Calculate the 90% confidence interval for the true population mean.\n",
    "\n",
    "import scipy.stats as stats\n",
    "import math\n",
    "\n",
    "# population parameters\n",
    "population_mean = 60\n",
    "population_std = 8\n",
    "\n",
    "# sample parameters\n",
    "sample_mean = 65\n",
    "sample_size = 50\n",
    "\n",
    "# calculate the standard error\n",
    "std_err = population_std / math.sqrt(sample_size)\n",
    "\n",
    "# calculate the confidence interval (90%)\n",
    "confidence_interval = stats.norm.interval(0.9, loc=sample_mean, scale=std_err)\n",
    "\n",
    "print(\"90% Confidence Interval:\", confidence_interval)"
   ]
  },
  {
   "cell_type": "code",
   "execution_count": 25,
   "id": "6b5e34fb-fdb3-4357-9c0c-8549eec0d669",
   "metadata": {},
   "outputs": [
    {
     "name": "stdout",
     "output_type": "stream",
     "text": [
      "t-statistic: inf\n",
      "p-value: 0.0\n",
      "The caffeine has a significant effect on reaction time at a 10% significance level.\n"
     ]
    },
    {
     "name": "stderr",
     "output_type": "stream",
     "text": [
      "/tmp/ipykernel_1106/938549482.py:14: RuntimeWarning: Precision loss occurred in moment calculation due to catastrophic cancellation. This occurs when the data are nearly identical. Results may be unreliable.\n",
      "  t_stat, p_val = stats.ttest_1samp([sample_mean]*sample_size, null_mean)\n"
     ]
    }
   ],
   "source": [
    "#Q14: In a study of the effects of caffeine on reaction time, a sample of 30 participants had an average reaction time of 0.25 seconds with a standard deviation of 0.05 seconds. Conduct a hypothesis test to determine if the caffeine has a significant effect on reaction time at a 90% confidence level using a t-test.\n",
    "\n",
    "import scipy.stats as stats\n",
    "\n",
    "# sample parameters\n",
    "sample_mean = 0.25\n",
    "sample_std = 0.05\n",
    "sample_size = 30\n",
    "\n",
    "# null hypothesis: mean reaction time is 0.20 seconds (no effect of caffeine)\n",
    "null_mean = 0.20\n",
    "\n",
    "# calculate the t-statistic and p-value\n",
    "t_stat, p_val = stats.ttest_1samp([sample_mean]*sample_size, null_mean)\n",
    "\n",
    "print(\"t-statistic:\", t_stat)\n",
    "print(\"p-value:\", p_val)\n",
    "\n",
    "if p_val < 0.1:\n",
    "    print(\"The caffeine has a significant effect on reaction time at a 10% significance level.\")\n",
    "else:\n",
    "    print(\"The caffeine does not have a significant effect on reaction time at a 10% significance level.\")"
   ]
  },
  {
   "cell_type": "code",
   "execution_count": null,
   "id": "38cb0cfa-119f-45fa-82d0-0c46d9b6156c",
   "metadata": {},
   "outputs": [],
   "source": []
  }
 ],
 "metadata": {
  "kernelspec": {
   "display_name": "Python 3 (ipykernel)",
   "language": "python",
   "name": "python3"
  },
  "language_info": {
   "codemirror_mode": {
    "name": "ipython",
    "version": 3
   },
   "file_extension": ".py",
   "mimetype": "text/x-python",
   "name": "python",
   "nbconvert_exporter": "python",
   "pygments_lexer": "ipython3",
   "version": "3.10.8"
  }
 },
 "nbformat": 4,
 "nbformat_minor": 5
}
